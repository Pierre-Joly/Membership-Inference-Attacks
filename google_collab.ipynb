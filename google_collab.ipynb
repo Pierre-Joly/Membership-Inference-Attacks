{
 "cells": [
  {
   "cell_type": "code",
   "execution_count": null,
   "metadata": {},
   "outputs": [],
   "source": [
    "import torch\n",
    "import pandas as pd\n",
    "from dataset import MembershipDataset\n",
    "from mia import random_guess, lira, fast_lira\n",
    "\n",
    "#### LOADING THE MODEL\n",
    "\n",
    "from torchvision.models import resnet18\n",
    "\n",
    "model = resnet18(weights=None)\n",
    "model.fc = torch.nn.Linear(512, 44)\n",
    "\n",
    "ckpt = torch.load(\"weights/01_MIA_67.pt\", map_location=\"cpu\")\n",
    "model.load_state_dict(ckpt)\n",
    "\n",
    "#### DATASETS\n",
    "\n",
    "data: MembershipDataset = torch.load(\"data/priv_out.pt\", weights_only=False)\n",
    "    \n",
    "#### EXAMPLE SUBMISSION\n",
    "\n",
    "score = lira(model, data)\n",
    "\n",
    "df = pd.DataFrame(\n",
    "    {\n",
    "        \"ids\": data.ids,\n",
    "        \"score\": score,\n",
    "    }\n",
    ")\n",
    "\n",
    "df.to_csv(\"submission.csv\", index=None)\n"
   ]
  }
 ],
 "metadata": {
  "kernelspec": {
   "display_name": "base",
   "language": "python",
   "name": "python3"
  },
  "language_info": {
   "name": "python",
   "version": "3.11.8"
  }
 },
 "nbformat": 4,
 "nbformat_minor": 2
}
